{
 "cells": [
  {
   "cell_type": "markdown",
   "metadata": {},
   "source": [
    "# Anemia Prediction"
   ]
  },
  {
   "cell_type": "markdown",
   "metadata": {},
   "source": [
    "1) Importing the necessary Python libraries"
   ]
  },
  {
   "cell_type": "code",
   "execution_count": 1,
   "metadata": {},
   "outputs": [],
   "source": [
    "import pandas as pd\n",
    "import seaborn as sns\n",
    "import matplotlib.pyplot as plt\n",
    "import numpy as np\n",
    "pd.options.mode.chained_assignment = None"
   ]
  },
  {
   "cell_type": "markdown",
   "metadata": {},
   "source": [
    "2) Importing the dataset"
   ]
  },
  {
   "cell_type": "code",
   "execution_count": 2,
   "metadata": {},
   "outputs": [
    {
     "data": {
      "text/html": [
       "<div>\n",
       "<style scoped>\n",
       "    .dataframe tbody tr th:only-of-type {\n",
       "        vertical-align: middle;\n",
       "    }\n",
       "\n",
       "    .dataframe tbody tr th {\n",
       "        vertical-align: top;\n",
       "    }\n",
       "\n",
       "    .dataframe thead th {\n",
       "        text-align: right;\n",
       "    }\n",
       "</style>\n",
       "<table border=\"1\" class=\"dataframe\">\n",
       "  <thead>\n",
       "    <tr style=\"text-align: right;\">\n",
       "      <th></th>\n",
       "      <th>NO</th>\n",
       "      <th>LAB_TEST</th>\n",
       "      <th>RESULT</th>\n",
       "      <th>REFERENCE_INTERVAL</th>\n",
       "      <th>GENDER</th>\n",
       "      <th>IDENTIFICATION</th>\n",
       "    </tr>\n",
       "  </thead>\n",
       "  <tbody>\n",
       "    <tr>\n",
       "      <th>0</th>\n",
       "      <td>1</td>\n",
       "      <td>Hemoglobin</td>\n",
       "      <td>14.9</td>\n",
       "      <td>13.5 - 17.5</td>\n",
       "      <td>Male</td>\n",
       "      <td>Not Anemia</td>\n",
       "    </tr>\n",
       "    <tr>\n",
       "      <th>1</th>\n",
       "      <td>1</td>\n",
       "      <td>MCH</td>\n",
       "      <td>22.7</td>\n",
       "      <td>27.0 - 31.0</td>\n",
       "      <td>Male</td>\n",
       "      <td>Not Anemia</td>\n",
       "    </tr>\n",
       "    <tr>\n",
       "      <th>2</th>\n",
       "      <td>1</td>\n",
       "      <td>MCHC</td>\n",
       "      <td>29.1</td>\n",
       "      <td>32.0 - 36.0</td>\n",
       "      <td>Male</td>\n",
       "      <td>Not Anemia</td>\n",
       "    </tr>\n",
       "    <tr>\n",
       "      <th>3</th>\n",
       "      <td>1</td>\n",
       "      <td>MCV</td>\n",
       "      <td>83.7</td>\n",
       "      <td>82.0 - 92.0</td>\n",
       "      <td>Male</td>\n",
       "      <td>Not Anemia</td>\n",
       "    </tr>\n",
       "    <tr>\n",
       "      <th>4</th>\n",
       "      <td>2</td>\n",
       "      <td>Hemoglobin</td>\n",
       "      <td>15.9</td>\n",
       "      <td>12.0 - 16.0</td>\n",
       "      <td>Female</td>\n",
       "      <td>Not Anemia</td>\n",
       "    </tr>\n",
       "    <tr>\n",
       "      <th>5</th>\n",
       "      <td>2</td>\n",
       "      <td>MCH</td>\n",
       "      <td>25.4</td>\n",
       "      <td>27.0 - 31.0</td>\n",
       "      <td>Female</td>\n",
       "      <td>Not Anemia</td>\n",
       "    </tr>\n",
       "    <tr>\n",
       "      <th>6</th>\n",
       "      <td>2</td>\n",
       "      <td>MCHC</td>\n",
       "      <td>28.3</td>\n",
       "      <td>32.0 - 36.0</td>\n",
       "      <td>Female</td>\n",
       "      <td>Not Anemia</td>\n",
       "    </tr>\n",
       "    <tr>\n",
       "      <th>7</th>\n",
       "      <td>2</td>\n",
       "      <td>MCV</td>\n",
       "      <td>72.0</td>\n",
       "      <td>82.0 - 92.0</td>\n",
       "      <td>Female</td>\n",
       "      <td>Not Anemia</td>\n",
       "    </tr>\n",
       "    <tr>\n",
       "      <th>8</th>\n",
       "      <td>3</td>\n",
       "      <td>Hemoglobin</td>\n",
       "      <td>9.0</td>\n",
       "      <td>12.0 - 16.0</td>\n",
       "      <td>Female</td>\n",
       "      <td>Anemia</td>\n",
       "    </tr>\n",
       "    <tr>\n",
       "      <th>9</th>\n",
       "      <td>3</td>\n",
       "      <td>MCH</td>\n",
       "      <td>21.5</td>\n",
       "      <td>27.0 - 31.0</td>\n",
       "      <td>Female</td>\n",
       "      <td>Anemia</td>\n",
       "    </tr>\n",
       "  </tbody>\n",
       "</table>\n",
       "</div>"
      ],
      "text/plain": [
       "   NO    LAB_TEST  RESULT REFERENCE_INTERVAL  GENDER IDENTIFICATION\n",
       "0   1  Hemoglobin    14.9        13.5 - 17.5    Male     Not Anemia\n",
       "1   1         MCH    22.7        27.0 - 31.0    Male     Not Anemia\n",
       "2   1        MCHC    29.1        32.0 - 36.0    Male     Not Anemia\n",
       "3   1         MCV    83.7        82.0 - 92.0    Male     Not Anemia\n",
       "4   2  Hemoglobin    15.9        12.0 - 16.0  Female     Not Anemia\n",
       "5   2         MCH    25.4        27.0 - 31.0  Female     Not Anemia\n",
       "6   2        MCHC    28.3        32.0 - 36.0  Female     Not Anemia\n",
       "7   2         MCV    72.0        82.0 - 92.0  Female     Not Anemia\n",
       "8   3  Hemoglobin     9.0        12.0 - 16.0  Female         Anemia\n",
       "9   3         MCH    21.5        27.0 - 31.0  Female         Anemia"
      ]
     },
     "execution_count": 2,
     "metadata": {},
     "output_type": "execute_result"
    }
   ],
   "source": [
    "data = pd.read_csv('Anemia.csv')\n",
    "data.head(10)"
   ]
  },
  {
   "cell_type": "markdown",
   "metadata": {},
   "source": [
    "# Exploratory Data Analysis"
   ]
  },
  {
   "cell_type": "code",
   "execution_count": 3,
   "metadata": {
    "scrolled": true
   },
   "outputs": [
    {
     "name": "stdout",
     "output_type": "stream",
     "text": [
      "<class 'pandas.core.frame.DataFrame'>\n",
      "RangeIndex: 5684 entries, 0 to 5683\n",
      "Data columns (total 6 columns):\n",
      " #   Column              Non-Null Count  Dtype  \n",
      "---  ------              --------------  -----  \n",
      " 0   NO                  5684 non-null   int64  \n",
      " 1   LAB_TEST            5684 non-null   object \n",
      " 2   RESULT              5684 non-null   float64\n",
      " 3   REFERENCE_INTERVAL  5684 non-null   object \n",
      " 4   GENDER              5684 non-null   object \n",
      " 5   IDENTIFICATION      5684 non-null   object \n",
      "dtypes: float64(1), int64(1), object(4)\n",
      "memory usage: 266.6+ KB\n"
     ]
    }
   ],
   "source": [
    "data.info()"
   ]
  },
  {
   "cell_type": "code",
   "execution_count": 4,
   "metadata": {},
   "outputs": [
    {
     "data": {
      "text/plain": [
       "(5684, 6)"
      ]
     },
     "execution_count": 4,
     "metadata": {},
     "output_type": "execute_result"
    }
   ],
   "source": [
    "data.shape"
   ]
  },
  {
   "cell_type": "code",
   "execution_count": 5,
   "metadata": {},
   "outputs": [
    {
     "data": {
      "text/plain": [
       "Index(['NO', 'LAB_TEST', 'RESULT', 'REFERENCE_INTERVAL', 'GENDER',\n",
       "       'IDENTIFICATION'],\n",
       "      dtype='object')"
      ]
     },
     "execution_count": 5,
     "metadata": {},
     "output_type": "execute_result"
    }
   ],
   "source": [
    "data.columns"
   ]
  },
  {
   "cell_type": "markdown",
   "metadata": {},
   "source": [
    "3) Data Cleaning"
   ]
  },
  {
   "cell_type": "code",
   "execution_count": 6,
   "metadata": {},
   "outputs": [
    {
     "data": {
      "text/plain": [
       "NO                    0\n",
       "LAB_TEST              0\n",
       "RESULT                0\n",
       "REFERENCE_INTERVAL    0\n",
       "GENDER                0\n",
       "IDENTIFICATION        0\n",
       "dtype: int64"
      ]
     },
     "execution_count": 6,
     "metadata": {},
     "output_type": "execute_result"
    }
   ],
   "source": [
    "data.isnull().sum()"
   ]
  },
  {
   "cell_type": "code",
   "execution_count": 7,
   "metadata": {},
   "outputs": [
    {
     "data": {
      "text/plain": [
       "array(['Hemoglobin', 'MCH', 'MCHC', 'MCV'], dtype=object)"
      ]
     },
     "execution_count": 7,
     "metadata": {},
     "output_type": "execute_result"
    }
   ],
   "source": [
    "data['LAB_TEST'].unique()"
   ]
  },
  {
   "cell_type": "code",
   "execution_count": 8,
   "metadata": {},
   "outputs": [
    {
     "data": {
      "text/plain": [
       "array([0, 1, 2, 3])"
      ]
     },
     "execution_count": 8,
     "metadata": {},
     "output_type": "execute_result"
    }
   ],
   "source": [
    "from sklearn.preprocessing import LabelEncoder\n",
    "label_encoder = LabelEncoder()\n",
    "data['LAB_TEST'] = label_encoder.fit_transform(data['LAB_TEST'])\n",
    "data['LAB_TEST'].unique()"
   ]
  },
  {
   "cell_type": "code",
   "execution_count": 9,
   "metadata": {},
   "outputs": [
    {
     "data": {
      "text/plain": [
       "array([1, 0])"
      ]
     },
     "execution_count": 9,
     "metadata": {},
     "output_type": "execute_result"
    }
   ],
   "source": [
    "label_encoder = LabelEncoder()\n",
    "data['GENDER'] = label_encoder.fit_transform(data['GENDER'])\n",
    "data['GENDER'].unique()"
   ]
  },
  {
   "cell_type": "code",
   "execution_count": 10,
   "metadata": {},
   "outputs": [
    {
     "data": {
      "text/html": [
       "<div>\n",
       "<style scoped>\n",
       "    .dataframe tbody tr th:only-of-type {\n",
       "        vertical-align: middle;\n",
       "    }\n",
       "\n",
       "    .dataframe tbody tr th {\n",
       "        vertical-align: top;\n",
       "    }\n",
       "\n",
       "    .dataframe thead th {\n",
       "        text-align: right;\n",
       "    }\n",
       "</style>\n",
       "<table border=\"1\" class=\"dataframe\">\n",
       "  <thead>\n",
       "    <tr style=\"text-align: right;\">\n",
       "      <th></th>\n",
       "      <th>NO</th>\n",
       "      <th>LAB_TEST</th>\n",
       "      <th>RESULT</th>\n",
       "      <th>REFERENCE_INTERVAL</th>\n",
       "      <th>GENDER</th>\n",
       "      <th>IDENTIFICATION</th>\n",
       "    </tr>\n",
       "  </thead>\n",
       "  <tbody>\n",
       "    <tr>\n",
       "      <th>0</th>\n",
       "      <td>1</td>\n",
       "      <td>0</td>\n",
       "      <td>14.9</td>\n",
       "      <td>13.5 - 17.5</td>\n",
       "      <td>1</td>\n",
       "      <td>Not Anemia</td>\n",
       "    </tr>\n",
       "    <tr>\n",
       "      <th>1</th>\n",
       "      <td>1</td>\n",
       "      <td>1</td>\n",
       "      <td>22.7</td>\n",
       "      <td>27.0 - 31.0</td>\n",
       "      <td>1</td>\n",
       "      <td>Not Anemia</td>\n",
       "    </tr>\n",
       "    <tr>\n",
       "      <th>2</th>\n",
       "      <td>1</td>\n",
       "      <td>2</td>\n",
       "      <td>29.1</td>\n",
       "      <td>32.0 - 36.0</td>\n",
       "      <td>1</td>\n",
       "      <td>Not Anemia</td>\n",
       "    </tr>\n",
       "    <tr>\n",
       "      <th>3</th>\n",
       "      <td>1</td>\n",
       "      <td>3</td>\n",
       "      <td>83.7</td>\n",
       "      <td>82.0 - 92.0</td>\n",
       "      <td>1</td>\n",
       "      <td>Not Anemia</td>\n",
       "    </tr>\n",
       "    <tr>\n",
       "      <th>4</th>\n",
       "      <td>2</td>\n",
       "      <td>0</td>\n",
       "      <td>15.9</td>\n",
       "      <td>12.0 - 16.0</td>\n",
       "      <td>0</td>\n",
       "      <td>Not Anemia</td>\n",
       "    </tr>\n",
       "  </tbody>\n",
       "</table>\n",
       "</div>"
      ],
      "text/plain": [
       "   NO  LAB_TEST  RESULT REFERENCE_INTERVAL  GENDER IDENTIFICATION\n",
       "0   1         0    14.9        13.5 - 17.5       1     Not Anemia\n",
       "1   1         1    22.7        27.0 - 31.0       1     Not Anemia\n",
       "2   1         2    29.1        32.0 - 36.0       1     Not Anemia\n",
       "3   1         3    83.7        82.0 - 92.0       1     Not Anemia\n",
       "4   2         0    15.9        12.0 - 16.0       0     Not Anemia"
      ]
     },
     "execution_count": 10,
     "metadata": {},
     "output_type": "execute_result"
    }
   ],
   "source": [
    "data.head()"
   ]
  },
  {
   "cell_type": "code",
   "execution_count": 11,
   "metadata": {},
   "outputs": [],
   "source": [
    "data.drop('NO',axis = 'columns',inplace = True)"
   ]
  },
  {
   "cell_type": "code",
   "execution_count": 12,
   "metadata": {
    "scrolled": true
   },
   "outputs": [
    {
     "data": {
      "text/html": [
       "<div>\n",
       "<style scoped>\n",
       "    .dataframe tbody tr th:only-of-type {\n",
       "        vertical-align: middle;\n",
       "    }\n",
       "\n",
       "    .dataframe tbody tr th {\n",
       "        vertical-align: top;\n",
       "    }\n",
       "\n",
       "    .dataframe thead th {\n",
       "        text-align: right;\n",
       "    }\n",
       "</style>\n",
       "<table border=\"1\" class=\"dataframe\">\n",
       "  <thead>\n",
       "    <tr style=\"text-align: right;\">\n",
       "      <th></th>\n",
       "      <th>LAB_TEST</th>\n",
       "      <th>RESULT</th>\n",
       "      <th>REFERENCE_INTERVAL</th>\n",
       "      <th>GENDER</th>\n",
       "      <th>IDENTIFICATION</th>\n",
       "    </tr>\n",
       "  </thead>\n",
       "  <tbody>\n",
       "    <tr>\n",
       "      <th>0</th>\n",
       "      <td>0</td>\n",
       "      <td>14.9</td>\n",
       "      <td>13.5 - 17.5</td>\n",
       "      <td>1</td>\n",
       "      <td>Not Anemia</td>\n",
       "    </tr>\n",
       "    <tr>\n",
       "      <th>1</th>\n",
       "      <td>1</td>\n",
       "      <td>22.7</td>\n",
       "      <td>27.0 - 31.0</td>\n",
       "      <td>1</td>\n",
       "      <td>Not Anemia</td>\n",
       "    </tr>\n",
       "    <tr>\n",
       "      <th>2</th>\n",
       "      <td>2</td>\n",
       "      <td>29.1</td>\n",
       "      <td>32.0 - 36.0</td>\n",
       "      <td>1</td>\n",
       "      <td>Not Anemia</td>\n",
       "    </tr>\n",
       "    <tr>\n",
       "      <th>3</th>\n",
       "      <td>3</td>\n",
       "      <td>83.7</td>\n",
       "      <td>82.0 - 92.0</td>\n",
       "      <td>1</td>\n",
       "      <td>Not Anemia</td>\n",
       "    </tr>\n",
       "    <tr>\n",
       "      <th>4</th>\n",
       "      <td>0</td>\n",
       "      <td>15.9</td>\n",
       "      <td>12.0 - 16.0</td>\n",
       "      <td>0</td>\n",
       "      <td>Not Anemia</td>\n",
       "    </tr>\n",
       "  </tbody>\n",
       "</table>\n",
       "</div>"
      ],
      "text/plain": [
       "   LAB_TEST  RESULT REFERENCE_INTERVAL  GENDER IDENTIFICATION\n",
       "0         0    14.9        13.5 - 17.5       1     Not Anemia\n",
       "1         1    22.7        27.0 - 31.0       1     Not Anemia\n",
       "2         2    29.1        32.0 - 36.0       1     Not Anemia\n",
       "3         3    83.7        82.0 - 92.0       1     Not Anemia\n",
       "4         0    15.9        12.0 - 16.0       0     Not Anemia"
      ]
     },
     "execution_count": 12,
     "metadata": {},
     "output_type": "execute_result"
    }
   ],
   "source": [
    "data.head()"
   ]
  },
  {
   "cell_type": "code",
   "execution_count": 13,
   "metadata": {},
   "outputs": [],
   "source": [
    "mapping = {'Not Anemia':'0',\n",
    "          'Anemia':'1'}\n",
    "data['IDENTIFICATION'] = data['IDENTIFICATION'].map(mapping)\n"
   ]
  },
  {
   "cell_type": "code",
   "execution_count": 14,
   "metadata": {},
   "outputs": [
    {
     "data": {
      "text/plain": [
       "0    0.563688\n",
       "1    0.436312\n",
       "Name: IDENTIFICATION, dtype: float64"
      ]
     },
     "execution_count": 14,
     "metadata": {},
     "output_type": "execute_result"
    }
   ],
   "source": [
    "data['IDENTIFICATION'].value_counts()/len(data)"
   ]
  },
  {
   "cell_type": "code",
   "execution_count": 15,
   "metadata": {},
   "outputs": [
    {
     "data": {
      "text/html": [
       "<div>\n",
       "<style scoped>\n",
       "    .dataframe tbody tr th:only-of-type {\n",
       "        vertical-align: middle;\n",
       "    }\n",
       "\n",
       "    .dataframe tbody tr th {\n",
       "        vertical-align: top;\n",
       "    }\n",
       "\n",
       "    .dataframe thead th {\n",
       "        text-align: right;\n",
       "    }\n",
       "</style>\n",
       "<table border=\"1\" class=\"dataframe\">\n",
       "  <thead>\n",
       "    <tr style=\"text-align: right;\">\n",
       "      <th></th>\n",
       "      <th>LAB_TEST</th>\n",
       "      <th>RESULT</th>\n",
       "      <th>REFERENCE_INTERVAL</th>\n",
       "      <th>GENDER</th>\n",
       "      <th>IDENTIFICATION</th>\n",
       "    </tr>\n",
       "  </thead>\n",
       "  <tbody>\n",
       "    <tr>\n",
       "      <th>0</th>\n",
       "      <td>0</td>\n",
       "      <td>14.9</td>\n",
       "      <td>13.5 - 17.5</td>\n",
       "      <td>1</td>\n",
       "      <td>0</td>\n",
       "    </tr>\n",
       "    <tr>\n",
       "      <th>1</th>\n",
       "      <td>1</td>\n",
       "      <td>22.7</td>\n",
       "      <td>27.0 - 31.0</td>\n",
       "      <td>1</td>\n",
       "      <td>0</td>\n",
       "    </tr>\n",
       "    <tr>\n",
       "      <th>2</th>\n",
       "      <td>2</td>\n",
       "      <td>29.1</td>\n",
       "      <td>32.0 - 36.0</td>\n",
       "      <td>1</td>\n",
       "      <td>0</td>\n",
       "    </tr>\n",
       "    <tr>\n",
       "      <th>3</th>\n",
       "      <td>3</td>\n",
       "      <td>83.7</td>\n",
       "      <td>82.0 - 92.0</td>\n",
       "      <td>1</td>\n",
       "      <td>0</td>\n",
       "    </tr>\n",
       "    <tr>\n",
       "      <th>4</th>\n",
       "      <td>0</td>\n",
       "      <td>15.9</td>\n",
       "      <td>12.0 - 16.0</td>\n",
       "      <td>0</td>\n",
       "      <td>0</td>\n",
       "    </tr>\n",
       "  </tbody>\n",
       "</table>\n",
       "</div>"
      ],
      "text/plain": [
       "   LAB_TEST  RESULT REFERENCE_INTERVAL  GENDER IDENTIFICATION\n",
       "0         0    14.9        13.5 - 17.5       1              0\n",
       "1         1    22.7        27.0 - 31.0       1              0\n",
       "2         2    29.1        32.0 - 36.0       1              0\n",
       "3         3    83.7        82.0 - 92.0       1              0\n",
       "4         0    15.9        12.0 - 16.0       0              0"
      ]
     },
     "execution_count": 15,
     "metadata": {},
     "output_type": "execute_result"
    }
   ],
   "source": [
    "data.head()"
   ]
  },
  {
   "cell_type": "code",
   "execution_count": 16,
   "metadata": {},
   "outputs": [],
   "source": [
    "df = data['REFERENCE_INTERVAL']\n",
    "data[['Lower_reference_limit','Upper_reference_limit']] = df.str.split(\"-\",expand = True)"
   ]
  },
  {
   "cell_type": "code",
   "execution_count": 17,
   "metadata": {},
   "outputs": [
    {
     "data": {
      "text/html": [
       "<div>\n",
       "<style scoped>\n",
       "    .dataframe tbody tr th:only-of-type {\n",
       "        vertical-align: middle;\n",
       "    }\n",
       "\n",
       "    .dataframe tbody tr th {\n",
       "        vertical-align: top;\n",
       "    }\n",
       "\n",
       "    .dataframe thead th {\n",
       "        text-align: right;\n",
       "    }\n",
       "</style>\n",
       "<table border=\"1\" class=\"dataframe\">\n",
       "  <thead>\n",
       "    <tr style=\"text-align: right;\">\n",
       "      <th></th>\n",
       "      <th>LAB_TEST</th>\n",
       "      <th>RESULT</th>\n",
       "      <th>REFERENCE_INTERVAL</th>\n",
       "      <th>GENDER</th>\n",
       "      <th>IDENTIFICATION</th>\n",
       "      <th>Lower_reference_limit</th>\n",
       "      <th>Upper_reference_limit</th>\n",
       "    </tr>\n",
       "  </thead>\n",
       "  <tbody>\n",
       "    <tr>\n",
       "      <th>0</th>\n",
       "      <td>0</td>\n",
       "      <td>14.9</td>\n",
       "      <td>13.5 - 17.5</td>\n",
       "      <td>1</td>\n",
       "      <td>0</td>\n",
       "      <td>13.5</td>\n",
       "      <td>17.5</td>\n",
       "    </tr>\n",
       "    <tr>\n",
       "      <th>1</th>\n",
       "      <td>1</td>\n",
       "      <td>22.7</td>\n",
       "      <td>27.0 - 31.0</td>\n",
       "      <td>1</td>\n",
       "      <td>0</td>\n",
       "      <td>27.0</td>\n",
       "      <td>31.0</td>\n",
       "    </tr>\n",
       "    <tr>\n",
       "      <th>2</th>\n",
       "      <td>2</td>\n",
       "      <td>29.1</td>\n",
       "      <td>32.0 - 36.0</td>\n",
       "      <td>1</td>\n",
       "      <td>0</td>\n",
       "      <td>32.0</td>\n",
       "      <td>36.0</td>\n",
       "    </tr>\n",
       "    <tr>\n",
       "      <th>3</th>\n",
       "      <td>3</td>\n",
       "      <td>83.7</td>\n",
       "      <td>82.0 - 92.0</td>\n",
       "      <td>1</td>\n",
       "      <td>0</td>\n",
       "      <td>82.0</td>\n",
       "      <td>92.0</td>\n",
       "    </tr>\n",
       "    <tr>\n",
       "      <th>4</th>\n",
       "      <td>0</td>\n",
       "      <td>15.9</td>\n",
       "      <td>12.0 - 16.0</td>\n",
       "      <td>0</td>\n",
       "      <td>0</td>\n",
       "      <td>12.0</td>\n",
       "      <td>16.0</td>\n",
       "    </tr>\n",
       "  </tbody>\n",
       "</table>\n",
       "</div>"
      ],
      "text/plain": [
       "   LAB_TEST  RESULT REFERENCE_INTERVAL  GENDER IDENTIFICATION  \\\n",
       "0         0    14.9        13.5 - 17.5       1              0   \n",
       "1         1    22.7        27.0 - 31.0       1              0   \n",
       "2         2    29.1        32.0 - 36.0       1              0   \n",
       "3         3    83.7        82.0 - 92.0       1              0   \n",
       "4         0    15.9        12.0 - 16.0       0              0   \n",
       "\n",
       "  Lower_reference_limit Upper_reference_limit  \n",
       "0                 13.5                   17.5  \n",
       "1                 27.0                   31.0  \n",
       "2                 32.0                   36.0  \n",
       "3                 82.0                   92.0  \n",
       "4                 12.0                   16.0  "
      ]
     },
     "execution_count": 17,
     "metadata": {},
     "output_type": "execute_result"
    }
   ],
   "source": [
    "data.head()"
   ]
  },
  {
   "cell_type": "code",
   "execution_count": 18,
   "metadata": {},
   "outputs": [],
   "source": [
    "data.drop('REFERENCE_INTERVAL',axis = 'columns', inplace = True)"
   ]
  },
  {
   "cell_type": "code",
   "execution_count": 19,
   "metadata": {
    "scrolled": true
   },
   "outputs": [
    {
     "data": {
      "text/html": [
       "<div>\n",
       "<style scoped>\n",
       "    .dataframe tbody tr th:only-of-type {\n",
       "        vertical-align: middle;\n",
       "    }\n",
       "\n",
       "    .dataframe tbody tr th {\n",
       "        vertical-align: top;\n",
       "    }\n",
       "\n",
       "    .dataframe thead th {\n",
       "        text-align: right;\n",
       "    }\n",
       "</style>\n",
       "<table border=\"1\" class=\"dataframe\">\n",
       "  <thead>\n",
       "    <tr style=\"text-align: right;\">\n",
       "      <th></th>\n",
       "      <th>LAB_TEST</th>\n",
       "      <th>RESULT</th>\n",
       "      <th>GENDER</th>\n",
       "      <th>IDENTIFICATION</th>\n",
       "      <th>Lower_reference_limit</th>\n",
       "      <th>Upper_reference_limit</th>\n",
       "    </tr>\n",
       "  </thead>\n",
       "  <tbody>\n",
       "    <tr>\n",
       "      <th>0</th>\n",
       "      <td>0</td>\n",
       "      <td>14.9</td>\n",
       "      <td>1</td>\n",
       "      <td>0</td>\n",
       "      <td>13.5</td>\n",
       "      <td>17.5</td>\n",
       "    </tr>\n",
       "    <tr>\n",
       "      <th>1</th>\n",
       "      <td>1</td>\n",
       "      <td>22.7</td>\n",
       "      <td>1</td>\n",
       "      <td>0</td>\n",
       "      <td>27.0</td>\n",
       "      <td>31.0</td>\n",
       "    </tr>\n",
       "    <tr>\n",
       "      <th>2</th>\n",
       "      <td>2</td>\n",
       "      <td>29.1</td>\n",
       "      <td>1</td>\n",
       "      <td>0</td>\n",
       "      <td>32.0</td>\n",
       "      <td>36.0</td>\n",
       "    </tr>\n",
       "    <tr>\n",
       "      <th>3</th>\n",
       "      <td>3</td>\n",
       "      <td>83.7</td>\n",
       "      <td>1</td>\n",
       "      <td>0</td>\n",
       "      <td>82.0</td>\n",
       "      <td>92.0</td>\n",
       "    </tr>\n",
       "    <tr>\n",
       "      <th>4</th>\n",
       "      <td>0</td>\n",
       "      <td>15.9</td>\n",
       "      <td>0</td>\n",
       "      <td>0</td>\n",
       "      <td>12.0</td>\n",
       "      <td>16.0</td>\n",
       "    </tr>\n",
       "  </tbody>\n",
       "</table>\n",
       "</div>"
      ],
      "text/plain": [
       "   LAB_TEST  RESULT  GENDER IDENTIFICATION Lower_reference_limit  \\\n",
       "0         0    14.9       1              0                 13.5    \n",
       "1         1    22.7       1              0                 27.0    \n",
       "2         2    29.1       1              0                 32.0    \n",
       "3         3    83.7       1              0                 82.0    \n",
       "4         0    15.9       0              0                 12.0    \n",
       "\n",
       "  Upper_reference_limit  \n",
       "0                  17.5  \n",
       "1                  31.0  \n",
       "2                  36.0  \n",
       "3                  92.0  \n",
       "4                  16.0  "
      ]
     },
     "execution_count": 19,
     "metadata": {},
     "output_type": "execute_result"
    }
   ],
   "source": [
    "data.head()"
   ]
  },
  {
   "cell_type": "code",
   "execution_count": 20,
   "metadata": {},
   "outputs": [],
   "source": [
    "column_names = ['LAB_TEST','GENDER','Lower_reference_limit','Upper_reference_limit','RESULT',\n",
    "                 'IDENTIFICATION']\n",
    "data = data.reindex(columns = column_names)"
   ]
  },
  {
   "cell_type": "code",
   "execution_count": 21,
   "metadata": {},
   "outputs": [
    {
     "data": {
      "text/html": [
       "<div>\n",
       "<style scoped>\n",
       "    .dataframe tbody tr th:only-of-type {\n",
       "        vertical-align: middle;\n",
       "    }\n",
       "\n",
       "    .dataframe tbody tr th {\n",
       "        vertical-align: top;\n",
       "    }\n",
       "\n",
       "    .dataframe thead th {\n",
       "        text-align: right;\n",
       "    }\n",
       "</style>\n",
       "<table border=\"1\" class=\"dataframe\">\n",
       "  <thead>\n",
       "    <tr style=\"text-align: right;\">\n",
       "      <th></th>\n",
       "      <th>LAB_TEST</th>\n",
       "      <th>GENDER</th>\n",
       "      <th>Lower_reference_limit</th>\n",
       "      <th>Upper_reference_limit</th>\n",
       "      <th>RESULT</th>\n",
       "      <th>IDENTIFICATION</th>\n",
       "    </tr>\n",
       "  </thead>\n",
       "  <tbody>\n",
       "    <tr>\n",
       "      <th>0</th>\n",
       "      <td>0</td>\n",
       "      <td>1</td>\n",
       "      <td>13.5</td>\n",
       "      <td>17.5</td>\n",
       "      <td>14.9</td>\n",
       "      <td>0</td>\n",
       "    </tr>\n",
       "    <tr>\n",
       "      <th>1</th>\n",
       "      <td>1</td>\n",
       "      <td>1</td>\n",
       "      <td>27.0</td>\n",
       "      <td>31.0</td>\n",
       "      <td>22.7</td>\n",
       "      <td>0</td>\n",
       "    </tr>\n",
       "    <tr>\n",
       "      <th>2</th>\n",
       "      <td>2</td>\n",
       "      <td>1</td>\n",
       "      <td>32.0</td>\n",
       "      <td>36.0</td>\n",
       "      <td>29.1</td>\n",
       "      <td>0</td>\n",
       "    </tr>\n",
       "    <tr>\n",
       "      <th>3</th>\n",
       "      <td>3</td>\n",
       "      <td>1</td>\n",
       "      <td>82.0</td>\n",
       "      <td>92.0</td>\n",
       "      <td>83.7</td>\n",
       "      <td>0</td>\n",
       "    </tr>\n",
       "    <tr>\n",
       "      <th>4</th>\n",
       "      <td>0</td>\n",
       "      <td>0</td>\n",
       "      <td>12.0</td>\n",
       "      <td>16.0</td>\n",
       "      <td>15.9</td>\n",
       "      <td>0</td>\n",
       "    </tr>\n",
       "  </tbody>\n",
       "</table>\n",
       "</div>"
      ],
      "text/plain": [
       "   LAB_TEST  GENDER Lower_reference_limit Upper_reference_limit  RESULT  \\\n",
       "0         0       1                 13.5                   17.5    14.9   \n",
       "1         1       1                 27.0                   31.0    22.7   \n",
       "2         2       1                 32.0                   36.0    29.1   \n",
       "3         3       1                 82.0                   92.0    83.7   \n",
       "4         0       0                 12.0                   16.0    15.9   \n",
       "\n",
       "  IDENTIFICATION  \n",
       "0              0  \n",
       "1              0  \n",
       "2              0  \n",
       "3              0  \n",
       "4              0  "
      ]
     },
     "execution_count": 21,
     "metadata": {},
     "output_type": "execute_result"
    }
   ],
   "source": [
    "data.head()"
   ]
  },
  {
   "cell_type": "code",
   "execution_count": 22,
   "metadata": {
    "scrolled": true
   },
   "outputs": [
    {
     "data": {
      "text/plain": [
       "Index(['LAB_TEST', 'GENDER', 'Lower_reference_limit', 'Upper_reference_limit',\n",
       "       'RESULT', 'IDENTIFICATION'],\n",
       "      dtype='object')"
      ]
     },
     "execution_count": 22,
     "metadata": {},
     "output_type": "execute_result"
    }
   ],
   "source": [
    "data.columns"
   ]
  },
  {
   "cell_type": "code",
   "execution_count": 23,
   "metadata": {},
   "outputs": [],
   "source": [
    "data['Upper_reference_limit'] = data['Upper_reference_limit'].astype(float)\n",
    "data['Lower_reference_limit'] = data['Lower_reference_limit'].astype(float)"
   ]
  },
  {
   "cell_type": "code",
   "execution_count": 24,
   "metadata": {},
   "outputs": [
    {
     "data": {
      "text/plain": [
       "<seaborn.axisgrid.PairGrid at 0x255b0675df0>"
      ]
     },
     "execution_count": 24,
     "metadata": {},
     "output_type": "execute_result"
    },
    {
     "data": {
      "image/png": "[encoded data removed]",
      "text/plain": [
       "<Figure size 900x900 with 30 Axes>"
      ]
     },
     "metadata": {
      "needs_background": "light"
     },
     "output_type": "display_data"
    }
   ],
   "source": [
    "pairplot = data[['LAB_TEST', 'GENDER', 'Lower_reference_limit', 'Upper_reference_limit',\n",
    "       'RESULT']]\n",
    "sns.pairplot(pairplot)"
   ]
  },
  {
   "cell_type": "code",
   "execution_count": 25,
   "metadata": {},
   "outputs": [],
   "source": [
    "#plt.scatter(range(0,5684),data['RESULT'])\n",
    "#sns.boxplot(data['RESULT'])\n"
   ]
  },
  {
   "cell_type": "code",
   "execution_count": 26,
   "metadata": {},
   "outputs": [],
   "source": [
    "x = data.drop(columns = 'IDENTIFICATION')\n",
    "y = data['IDENTIFICATION']"
   ]
  },
  {
   "cell_type": "markdown",
   "metadata": {},
   "source": [
    "4) Scaling the Data Set"
   ]
  },
  {
   "cell_type": "code",
   "execution_count": 27,
   "metadata": {},
   "outputs": [],
   "source": [
    "from sklearn.preprocessing import StandardScaler\n",
    "scaler = StandardScaler()\n",
    "scaled_x = scaler.fit_transform(x)"
   ]
  },
  {
   "cell_type": "code",
   "execution_count": 28,
   "metadata": {},
   "outputs": [],
   "source": [
    "numerical_columns = ['LAB_TEST','GENDER','Lower_reference_limit','Upper_reference_limit']"
   ]
  },
  {
   "cell_type": "code",
   "execution_count": 29,
   "metadata": {
    "scrolled": true
   },
   "outputs": [
    {
     "name": "stdout",
     "output_type": "stream",
     "text": [
      "<class 'pandas.core.frame.DataFrame'>\n",
      "RangeIndex: 5684 entries, 0 to 5683\n",
      "Data columns (total 4 columns):\n",
      " #   Column                 Non-Null Count  Dtype  \n",
      "---  ------                 --------------  -----  \n",
      " 0   LAB_TEST               5684 non-null   int32  \n",
      " 1   GENDER                 5684 non-null   int32  \n",
      " 2   Lower_reference_limit  5684 non-null   float64\n",
      " 3   Upper_reference_limit  5684 non-null   float64\n",
      "dtypes: float64(2), int32(2)\n",
      "memory usage: 133.3 KB\n"
     ]
    }
   ],
   "source": [
    "data[numerical_columns].info()"
   ]
  },
  {
   "cell_type": "code",
   "execution_count": 30,
   "metadata": {
    "scrolled": true
   },
   "outputs": [
    {
     "name": "stdout",
     "output_type": "stream",
     "text": [
      "<class 'pandas.core.frame.DataFrame'>\n",
      "RangeIndex: 5684 entries, 0 to 5683\n",
      "Data columns (total 4 columns):\n",
      " #   Column                 Non-Null Count  Dtype  \n",
      "---  ------                 --------------  -----  \n",
      " 0   LAB_TEST               5684 non-null   int32  \n",
      " 1   GENDER                 5684 non-null   int32  \n",
      " 2   Lower_reference_limit  5684 non-null   float64\n",
      " 3   Upper_reference_limit  5684 non-null   float64\n",
      "dtypes: float64(2), int32(2)\n",
      "memory usage: 133.3 KB\n"
     ]
    }
   ],
   "source": [
    "data['LAB_TEST'].astype('int64')\n",
    "data['GENDER'].astype('int64')\n",
    "data[numerical_columns].info()"
   ]
  },
  {
   "cell_type": "markdown",
   "metadata": {},
   "source": [
    "5) Treating the outliers"
   ]
  },
  {
   "cell_type": "code",
   "execution_count": 31,
   "metadata": {},
   "outputs": [
    {
     "data": {
      "text/plain": [
       "<AxesSubplot:>"
      ]
     },
     "execution_count": 31,
     "metadata": {},
     "output_type": "execute_result"
    },
    {
     "data": {
      "image/png": "[encoded data removed]",
      "text/plain": [
       "<Figure size 1296x720 with 1 Axes>"
      ]
     },
     "metadata": {
      "needs_background": "light"
     },
     "output_type": "display_data"
    }
   ],
   "source": [
    "plt.figure(figsize = (18,10))\n",
    "sns.boxplot(data=data[numerical_columns])\n"
   ]
  },
  {
   "cell_type": "code",
   "execution_count": 32,
   "metadata": {},
   "outputs": [
    {
     "data": {
      "text/html": [
       "<div>\n",
       "<style scoped>\n",
       "    .dataframe tbody tr th:only-of-type {\n",
       "        vertical-align: middle;\n",
       "    }\n",
       "\n",
       "    .dataframe tbody tr th {\n",
       "        vertical-align: top;\n",
       "    }\n",
       "\n",
       "    .dataframe thead th {\n",
       "        text-align: right;\n",
       "    }\n",
       "</style>\n",
       "<table border=\"1\" class=\"dataframe\">\n",
       "  <thead>\n",
       "    <tr style=\"text-align: right;\">\n",
       "      <th></th>\n",
       "      <th>LAB_TEST</th>\n",
       "      <th>GENDER</th>\n",
       "      <th>Lower_reference_limit</th>\n",
       "      <th>Upper_reference_limit</th>\n",
       "      <th>RESULT</th>\n",
       "      <th>IDENTIFICATION</th>\n",
       "    </tr>\n",
       "  </thead>\n",
       "  <tbody>\n",
       "    <tr>\n",
       "      <th>0</th>\n",
       "      <td>0</td>\n",
       "      <td>1</td>\n",
       "      <td>-10.6875</td>\n",
       "      <td>-3.3125</td>\n",
       "      <td>14.9</td>\n",
       "      <td>0</td>\n",
       "    </tr>\n",
       "    <tr>\n",
       "      <th>1</th>\n",
       "      <td>1</td>\n",
       "      <td>1</td>\n",
       "      <td>27.0000</td>\n",
       "      <td>31.0000</td>\n",
       "      <td>22.7</td>\n",
       "      <td>0</td>\n",
       "    </tr>\n",
       "    <tr>\n",
       "      <th>2</th>\n",
       "      <td>2</td>\n",
       "      <td>1</td>\n",
       "      <td>32.0000</td>\n",
       "      <td>36.0000</td>\n",
       "      <td>29.1</td>\n",
       "      <td>0</td>\n",
       "    </tr>\n",
       "    <tr>\n",
       "      <th>3</th>\n",
       "      <td>3</td>\n",
       "      <td>1</td>\n",
       "      <td>72.8125</td>\n",
       "      <td>79.1875</td>\n",
       "      <td>83.7</td>\n",
       "      <td>0</td>\n",
       "    </tr>\n",
       "    <tr>\n",
       "      <th>4</th>\n",
       "      <td>0</td>\n",
       "      <td>0</td>\n",
       "      <td>-10.6875</td>\n",
       "      <td>-3.3125</td>\n",
       "      <td>15.9</td>\n",
       "      <td>0</td>\n",
       "    </tr>\n",
       "    <tr>\n",
       "      <th>...</th>\n",
       "      <td>...</td>\n",
       "      <td>...</td>\n",
       "      <td>...</td>\n",
       "      <td>...</td>\n",
       "      <td>...</td>\n",
       "      <td>...</td>\n",
       "    </tr>\n",
       "    <tr>\n",
       "      <th>5679</th>\n",
       "      <td>3</td>\n",
       "      <td>0</td>\n",
       "      <td>72.8125</td>\n",
       "      <td>79.1875</td>\n",
       "      <td>95.2</td>\n",
       "      <td>0</td>\n",
       "    </tr>\n",
       "    <tr>\n",
       "      <th>5680</th>\n",
       "      <td>0</td>\n",
       "      <td>0</td>\n",
       "      <td>-10.6875</td>\n",
       "      <td>-3.3125</td>\n",
       "      <td>11.8</td>\n",
       "      <td>1</td>\n",
       "    </tr>\n",
       "    <tr>\n",
       "      <th>5681</th>\n",
       "      <td>1</td>\n",
       "      <td>0</td>\n",
       "      <td>27.0000</td>\n",
       "      <td>31.0000</td>\n",
       "      <td>21.2</td>\n",
       "      <td>1</td>\n",
       "    </tr>\n",
       "    <tr>\n",
       "      <th>5682</th>\n",
       "      <td>2</td>\n",
       "      <td>0</td>\n",
       "      <td>32.0000</td>\n",
       "      <td>36.0000</td>\n",
       "      <td>28.4</td>\n",
       "      <td>1</td>\n",
       "    </tr>\n",
       "    <tr>\n",
       "      <th>5683</th>\n",
       "      <td>3</td>\n",
       "      <td>0</td>\n",
       "      <td>72.8125</td>\n",
       "      <td>79.1875</td>\n",
       "      <td>98.1</td>\n",
       "      <td>1</td>\n",
       "    </tr>\n",
       "  </tbody>\n",
       "</table>\n",
       "<p>5684 rows × 6 columns</p>\n",
       "</div>"
      ],
      "text/plain": [
       "      LAB_TEST  GENDER  Lower_reference_limit  Upper_reference_limit  RESULT  \\\n",
       "0            0       1               -10.6875                -3.3125    14.9   \n",
       "1            1       1                27.0000                31.0000    22.7   \n",
       "2            2       1                32.0000                36.0000    29.1   \n",
       "3            3       1                72.8125                79.1875    83.7   \n",
       "4            0       0               -10.6875                -3.3125    15.9   \n",
       "...        ...     ...                    ...                    ...     ...   \n",
       "5679         3       0                72.8125                79.1875    95.2   \n",
       "5680         0       0               -10.6875                -3.3125    11.8   \n",
       "5681         1       0                27.0000                31.0000    21.2   \n",
       "5682         2       0                32.0000                36.0000    28.4   \n",
       "5683         3       0                72.8125                79.1875    98.1   \n",
       "\n",
       "     IDENTIFICATION  \n",
       "0                 0  \n",
       "1                 0  \n",
       "2                 0  \n",
       "3                 0  \n",
       "4                 0  \n",
       "...             ...  \n",
       "5679              0  \n",
       "5680              1  \n",
       "5681              1  \n",
       "5682              1  \n",
       "5683              1  \n",
       "\n",
       "[5684 rows x 6 columns]"
      ]
     },
     "execution_count": 32,
     "metadata": {},
     "output_type": "execute_result"
    }
   ],
   "source": [
    "def cap_data(data):\n",
    "    for col in numerical_columns:\n",
    "        if (((data[col].dtype)=='float64') | ((data[col].dtype)=='int64')):\n",
    "            percentiles = data[col].quantile([0.25,0.75]).values\n",
    "            iqr = percentiles[1]-percentiles[0]\n",
    "            upper_limit = percentiles[1] + 1.5*iqr\n",
    "            lower_limit = percentiles[0] -1.5*iqr\n",
    "            data[col][data[col] <= percentiles[0]] = lower_limit\n",
    "            data[col][data[col] >= percentiles[1]] = upper_limit\n",
    "        else:\n",
    "            data[col]=data[col]\n",
    "    return data\n",
    "\n",
    "cap_data(data)"
   ]
  },
  {
   "cell_type": "code",
   "execution_count": 33,
   "metadata": {},
   "outputs": [
    {
     "data": {
      "text/plain": [
       "<AxesSubplot:>"
      ]
     },
     "execution_count": 33,
     "metadata": {},
     "output_type": "execute_result"
    },
    {
     "data": {
      "image/png": "[encoded data removed]",
      "text/plain": [
       "<Figure size 1296x720 with 1 Axes>"
      ]
     },
     "metadata": {
      "needs_background": "light"
     },
     "output_type": "display_data"
    }
   ],
   "source": [
    "plt.figure(figsize = (18,10))\n",
    "sns.boxplot(data=data[numerical_columns])\n"
   ]
  },
  {
   "cell_type": "markdown",
   "metadata": {},
   "source": [
    "6) Treating the Multicollinearity"
   ]
  },
  {
   "cell_type": "code",
   "execution_count": 34,
   "metadata": {},
   "outputs": [
    {
     "data": {
      "text/html": [
       "<div>\n",
       "<style scoped>\n",
       "    .dataframe tbody tr th:only-of-type {\n",
       "        vertical-align: middle;\n",
       "    }\n",
       "\n",
       "    .dataframe tbody tr th {\n",
       "        vertical-align: top;\n",
       "    }\n",
       "\n",
       "    .dataframe thead th {\n",
       "        text-align: right;\n",
       "    }\n",
       "</style>\n",
       "<table border=\"1\" class=\"dataframe\">\n",
       "  <thead>\n",
       "    <tr style=\"text-align: right;\">\n",
       "      <th></th>\n",
       "      <th>LAB_TEST</th>\n",
       "      <th>GENDER</th>\n",
       "      <th>Lower_reference_limit</th>\n",
       "      <th>Upper_reference_limit</th>\n",
       "      <th>RESULT</th>\n",
       "    </tr>\n",
       "  </thead>\n",
       "  <tbody>\n",
       "    <tr>\n",
       "      <th>LAB_TEST</th>\n",
       "      <td>1.000000</td>\n",
       "      <td>0.000000</td>\n",
       "      <td>0.909774</td>\n",
       "      <td>0.899174</td>\n",
       "      <td>0.875279</td>\n",
       "    </tr>\n",
       "    <tr>\n",
       "      <th>GENDER</th>\n",
       "      <td>0.000000</td>\n",
       "      <td>1.000000</td>\n",
       "      <td>0.005289</td>\n",
       "      <td>0.006153</td>\n",
       "      <td>-0.003005</td>\n",
       "    </tr>\n",
       "    <tr>\n",
       "      <th>Lower_reference_limit</th>\n",
       "      <td>0.909774</td>\n",
       "      <td>0.005289</td>\n",
       "      <td>1.000000</td>\n",
       "      <td>0.998112</td>\n",
       "      <td>0.979040</td>\n",
       "    </tr>\n",
       "    <tr>\n",
       "      <th>Upper_reference_limit</th>\n",
       "      <td>0.899174</td>\n",
       "      <td>0.006153</td>\n",
       "      <td>0.998112</td>\n",
       "      <td>1.000000</td>\n",
       "      <td>0.979095</td>\n",
       "    </tr>\n",
       "    <tr>\n",
       "      <th>RESULT</th>\n",
       "      <td>0.875279</td>\n",
       "      <td>-0.003005</td>\n",
       "      <td>0.979040</td>\n",
       "      <td>0.979095</td>\n",
       "      <td>1.000000</td>\n",
       "    </tr>\n",
       "  </tbody>\n",
       "</table>\n",
       "</div>"
      ],
      "text/plain": [
       "                       LAB_TEST    GENDER  Lower_reference_limit  \\\n",
       "LAB_TEST               1.000000  0.000000               0.909774   \n",
       "GENDER                 0.000000  1.000000               0.005289   \n",
       "Lower_reference_limit  0.909774  0.005289               1.000000   \n",
       "Upper_reference_limit  0.899174  0.006153               0.998112   \n",
       "RESULT                 0.875279 -0.003005               0.979040   \n",
       "\n",
       "                       Upper_reference_limit    RESULT  \n",
       "LAB_TEST                            0.899174  0.875279  \n",
       "GENDER                              0.006153 -0.003005  \n",
       "Lower_reference_limit               0.998112  0.979040  \n",
       "Upper_reference_limit               1.000000  0.979095  \n",
       "RESULT                              0.979095  1.000000  "
      ]
     },
     "execution_count": 34,
     "metadata": {},
     "output_type": "execute_result"
    }
   ],
   "source": [
    "corr_matrix = x.corr()\n",
    "corr_matrix.head()"
   ]
  },
  {
   "cell_type": "code",
   "execution_count": 35,
   "metadata": {
    "scrolled": true
   },
   "outputs": [
    {
     "data": {
      "image/png": "[encoded data removed]",
      "text/plain": [
       "<Figure size 432x288 with 2 Axes>"
      ]
     },
     "metadata": {
      "needs_background": "light"
     },
     "output_type": "display_data"
    }
   ],
   "source": [
    "sns.heatmap(corr_matrix,annot = True)\n",
    "plt.show()"
   ]
  },
  {
   "cell_type": "markdown",
   "metadata": {},
   "source": [
    "# Splitting the dataset"
   ]
  },
  {
   "cell_type": "code",
   "execution_count": 36,
   "metadata": {},
   "outputs": [
    {
     "data": {
      "text/plain": [
       "((3978, 5), (1706, 5), (3978,), (1706,))"
      ]
     },
     "execution_count": 36,
     "metadata": {},
     "output_type": "execute_result"
    }
   ],
   "source": [
    "from sklearn.model_selection import train_test_split as tts\n",
    "x_train, x_test, y_train,y_test = tts(scaled_x, y, train_size = 0.7,stratify = None)\n",
    "x_train.shape, x_test.shape, y_train.shape, y_test.shape"
   ]
  },
  {
   "cell_type": "markdown",
   "metadata": {},
   "source": [
    "# Classification Model"
   ]
  },
  {
   "cell_type": "markdown",
   "metadata": {},
   "source": [
    "1) Logistic Regression"
   ]
  },
  {
   "cell_type": "code",
   "execution_count": 37,
   "metadata": {},
   "outputs": [],
   "source": [
    "from sklearn.linear_model import LogisticRegression as LR\n",
    "classifier = LR(class_weight = 'balanced')"
   ]
  },
  {
   "cell_type": "code",
   "execution_count": 38,
   "metadata": {},
   "outputs": [
    {
     "data": {
      "text/plain": [
       "LogisticRegression(class_weight='balanced')"
      ]
     },
     "execution_count": 38,
     "metadata": {},
     "output_type": "execute_result"
    }
   ],
   "source": [
    "classifier.fit(x_train,y_train)"
   ]
  },
  {
   "cell_type": "code",
   "execution_count": 39,
   "metadata": {},
   "outputs": [
    {
     "data": {
      "text/plain": [
       "array([[0.39110252, 0.60889748],\n",
       "       [0.55191901, 0.44808099],\n",
       "       [0.38866184, 0.61133816],\n",
       "       ...,\n",
       "       [0.41320358, 0.58679642],\n",
       "       [0.60216087, 0.39783913],\n",
       "       [0.38866184, 0.61133816]])"
      ]
     },
     "execution_count": 39,
     "metadata": {},
     "output_type": "execute_result"
    }
   ],
   "source": [
    "y_pred = classifier.predict(x_test)\n",
    "predicted_proba = classifier.predict_proba(x_test)\n",
    "predicted_proba"
   ]
  },
  {
   "cell_type": "code",
   "execution_count": 40,
   "metadata": {},
   "outputs": [
    {
     "data": {
      "image/png": "[encoded data removed]",
      "text/plain": [
       "<Figure size 432x288 with 2 Axes>"
      ]
     },
     "metadata": {
      "needs_background": "light"
     },
     "output_type": "display_data"
    }
   ],
   "source": [
    "from sklearn.metrics import plot_confusion_matrix\n",
    "plot_confusion_matrix(classifier, x_train,y_train)\n",
    "plt.show()"
   ]
  },
  {
   "cell_type": "code",
   "execution_count": 41,
   "metadata": {
    "scrolled": true
   },
   "outputs": [
    {
     "data": {
      "image/png": "[encoded data removed]",
      "text/plain": [
       "<Figure size 432x288 with 2 Axes>"
      ]
     },
     "metadata": {
      "needs_background": "light"
     },
     "output_type": "display_data"
    }
   ],
   "source": [
    "plot_confusion_matrix(classifier, x_test,y_test)\n",
    "plt.show()"
   ]
  },
  {
   "cell_type": "code",
   "execution_count": 42,
   "metadata": {},
   "outputs": [
    {
     "data": {
      "text/plain": [
       "0.6260257913247362"
      ]
     },
     "execution_count": 42,
     "metadata": {},
     "output_type": "execute_result"
    }
   ],
   "source": [
    "from sklearn.metrics import accuracy_score\n",
    "accuracy = accuracy_score(y_test,y_pred)\n",
    "accuracy"
   ]
  },
  {
   "cell_type": "code",
   "execution_count": 43,
   "metadata": {},
   "outputs": [
    {
     "name": "stdout",
     "output_type": "stream",
     "text": [
      "              precision    recall  f1-score   support\n",
      "\n",
      "           0       0.70      0.60      0.64       962\n",
      "           1       0.56      0.67      0.61       744\n",
      "\n",
      "    accuracy                           0.63      1706\n",
      "   macro avg       0.63      0.63      0.63      1706\n",
      "weighted avg       0.64      0.63      0.63      1706\n",
      "\n"
     ]
    }
   ],
   "source": [
    "from sklearn.metrics import classification_report\n",
    "k = classification_report(y_test,y_pred)\n",
    "print(k)"
   ]
  },
  {
   "cell_type": "code",
   "execution_count": 44,
   "metadata": {},
   "outputs": [
    {
     "data": {
      "text/plain": [
       "((678,), (678,), (677,))"
      ]
     },
     "execution_count": 44,
     "metadata": {},
     "output_type": "execute_result"
    }
   ],
   "source": [
    "from sklearn.metrics import precision_recall_curve\n",
    "precision_points,recall_points,threshold_points = precision_recall_curve(y_test,\n",
    "                                                                        predicted_proba[:,1],pos_label = '1')\n",
    "precision_points.shape,recall_points.shape,threshold_points.shape"
   ]
  },
  {
   "cell_type": "code",
   "execution_count": 45,
   "metadata": {},
   "outputs": [
    {
     "data": {
      "text/plain": [
       "<matplotlib.legend.Legend at 0x255b31edf10>"
      ]
     },
     "execution_count": 45,
     "metadata": {},
     "output_type": "execute_result"
    },
    {
     "data": {
      "image/png": "[encoded data removed]",
      "text/plain": [
       "<Figure size 700x500 with 1 Axes>"
      ]
     },
     "metadata": {
      "needs_background": "light"
     },
     "output_type": "display_data"
    }
   ],
   "source": [
    "plt.figure(figsize = (7,5),dpi = 100)\n",
    "plt.plot(threshold_points,precision_points[:-1],color = 'green',label = 'Precision')\n",
    "plt.plot(threshold_points, recall_points[:-1],color = 'red',label = 'Recall')\n",
    "plt.xlabel('Threshold Points', fontsize = 15)\n",
    "plt.ylabel('Score',fontsize = 15)\n",
    "plt.title('Precision_recall_tradeoff',fontsize = 20)\n",
    "plt.legend()"
   ]
  },
  {
   "cell_type": "code",
   "execution_count": 46,
   "metadata": {},
   "outputs": [],
   "source": [
    "from sklearn.metrics import roc_curve, roc_auc_score\n",
    "fpr,tpr,threshold = roc_curve(y_test,predicted_proba[:,-1],pos_label = '1')"
   ]
  },
  {
   "cell_type": "code",
   "execution_count": 47,
   "metadata": {},
   "outputs": [
    {
     "data": {
      "image/png": "[encoded data removed]",
      "text/plain": [
       "<Figure size 700x500 with 1 Axes>"
      ]
     },
     "metadata": {
      "needs_background": "light"
     },
     "output_type": "display_data"
    },
    {
     "data": {
      "text/plain": [
       "0.6748359712069388"
      ]
     },
     "execution_count": 47,
     "metadata": {},
     "output_type": "execute_result"
    }
   ],
   "source": [
    "plt.figure(figsize = (7,5),dpi = 100)\n",
    "plt.plot(fpr,tpr, color = 'green')\n",
    "plt.plot([0,1],[0,1],label = 'baseline', color = 'red')\n",
    "plt.xlabel('FPR', fontsize = 15)\n",
    "plt.ylabel('TPR', fontsize = 15)\n",
    "plt.title('AUC-ROC', fontsize = 20)\n",
    "plt.show()\n",
    "roc_auc_score(y_test,predicted_proba[:,1])"
   ]
  },
  {
   "cell_type": "code",
   "execution_count": 48,
   "metadata": {},
   "outputs": [
    {
     "data": {
      "text/html": [
       "<div>\n",
       "<style scoped>\n",
       "    .dataframe tbody tr th:only-of-type {\n",
       "        vertical-align: middle;\n",
       "    }\n",
       "\n",
       "    .dataframe tbody tr th {\n",
       "        vertical-align: top;\n",
       "    }\n",
       "\n",
       "    .dataframe thead th {\n",
       "        text-align: right;\n",
       "    }\n",
       "</style>\n",
       "<table border=\"1\" class=\"dataframe\">\n",
       "  <thead>\n",
       "    <tr style=\"text-align: right;\">\n",
       "      <th></th>\n",
       "      <th>coefficients</th>\n",
       "      <th>variables</th>\n",
       "    </tr>\n",
       "  </thead>\n",
       "  <tbody>\n",
       "    <tr>\n",
       "      <th>4</th>\n",
       "      <td>-0.834313</td>\n",
       "      <td>RESULT</td>\n",
       "    </tr>\n",
       "    <tr>\n",
       "      <th>0</th>\n",
       "      <td>-0.047015</td>\n",
       "      <td>LAB_TEST</td>\n",
       "    </tr>\n",
       "    <tr>\n",
       "      <th>3</th>\n",
       "      <td>0.067038</td>\n",
       "      <td>Upper_reference_limit</td>\n",
       "    </tr>\n",
       "    <tr>\n",
       "      <th>1</th>\n",
       "      <td>0.506983</td>\n",
       "      <td>GENDER</td>\n",
       "    </tr>\n",
       "    <tr>\n",
       "      <th>2</th>\n",
       "      <td>0.779267</td>\n",
       "      <td>Lower_reference_limit</td>\n",
       "    </tr>\n",
       "  </tbody>\n",
       "</table>\n",
       "</div>"
      ],
      "text/plain": [
       "   coefficients              variables\n",
       "4     -0.834313                 RESULT\n",
       "0     -0.047015               LAB_TEST\n",
       "3      0.067038  Upper_reference_limit\n",
       "1      0.506983                 GENDER\n",
       "2      0.779267  Lower_reference_limit"
      ]
     },
     "execution_count": 48,
     "metadata": {},
     "output_type": "execute_result"
    }
   ],
   "source": [
    "c = classifier.coef_.reshape(-1)\n",
    "x = x.columns\n",
    "coeff_plot = pd.DataFrame({\n",
    "    'coefficients':c,\n",
    "    'variables':x,\n",
    "    })\n",
    "#sorting the values\n",
    "coeff_plot = coeff_plot.sort_values(by = 'coefficients')\n",
    "coeff_plot.head()"
   ]
  },
  {
   "cell_type": "code",
   "execution_count": 59,
   "metadata": {
    "scrolled": false
   },
   "outputs": [
    {
     "data": {
      "text/plain": [
       "Text(0.5, 1.0, 'Coefficients plot')"
      ]
     },
     "execution_count": 59,
     "metadata": {},
     "output_type": "execute_result"
    },
    {
     "data": {
      "image/png": "[encoded data removed]",
      "text/plain": [
       "<Figure size 960x720 with 1 Axes>"
      ]
     },
     "metadata": {
      "needs_background": "light"
     },
     "output_type": "display_data"
    }
   ],
   "source": [
    "plt.figure(figsize = (8,6),dpi = 120)\n",
    "plt.barh(coeff_plot['variables'],coeff_plot['coefficients'],color = 'red')\n",
    "plt.xlabel('coefficient Magnitude',fontsize = 15)\n",
    "plt.ylabel('variables',fontsize = 15)\n",
    "plt.title('Coefficients plot',fontsize = 20)"
   ]
  },
  {
   "cell_type": "markdown",
   "metadata": {},
   "source": [
    "2) Random Forest"
   ]
  },
  {
   "cell_type": "code",
   "execution_count": 50,
   "metadata": {},
   "outputs": [],
   "source": [
    "from sklearn.ensemble import RandomForestClassifier\n",
    "\n",
    "rfc = RandomForestClassifier(n_estimators=300)\n",
    "rfc.fit(x_train, y_train)\n",
    "y_pred2 = rfc.predict(x_test)"
   ]
  },
  {
   "cell_type": "code",
   "execution_count": 51,
   "metadata": {},
   "outputs": [
    {
     "data": {
      "text/plain": [
       "0.8106682297772567"
      ]
     },
     "execution_count": 51,
     "metadata": {},
     "output_type": "execute_result"
    }
   ],
   "source": [
    "from sklearn.metrics import accuracy_score\n",
    "accuracy = accuracy_score(y_test,y_pred2)\n",
    "accuracy"
   ]
  },
  {
   "cell_type": "code",
   "execution_count": 52,
   "metadata": {},
   "outputs": [
    {
     "name": "stdout",
     "output_type": "stream",
     "text": [
      "              precision    recall  f1-score   support\n",
      "\n",
      "           0       0.84      0.82      0.83       962\n",
      "           1       0.78      0.80      0.79       744\n",
      "\n",
      "    accuracy                           0.81      1706\n",
      "   macro avg       0.81      0.81      0.81      1706\n",
      "weighted avg       0.81      0.81      0.81      1706\n",
      "\n"
     ]
    }
   ],
   "source": [
    "from sklearn.metrics import classification_report\n",
    "k = classification_report(y_test,y_pred2)\n",
    "print(k)"
   ]
  },
  {
   "cell_type": "markdown",
   "metadata": {},
   "source": [
    "3) K- Nearest Neighbours"
   ]
  },
  {
   "cell_type": "code",
   "execution_count": 53,
   "metadata": {},
   "outputs": [],
   "source": [
    "from sklearn.neighbors import KNeighborsClassifier\n",
    "knn = KNeighborsClassifier(n_neighbors=7)\n",
    "  \n",
    "knn.fit(x_train, y_train)\n",
    "\n",
    "y_pred3 = knn.predict(x_test)"
   ]
  },
  {
   "cell_type": "code",
   "execution_count": 54,
   "metadata": {},
   "outputs": [
    {
     "data": {
      "text/plain": [
       "0.7467760844079718"
      ]
     },
     "execution_count": 54,
     "metadata": {},
     "output_type": "execute_result"
    }
   ],
   "source": [
    "from sklearn.metrics import accuracy_score\n",
    "accuracy = accuracy_score(y_test,y_pred3)\n",
    "accuracy"
   ]
  },
  {
   "cell_type": "code",
   "execution_count": 55,
   "metadata": {},
   "outputs": [
    {
     "name": "stdout",
     "output_type": "stream",
     "text": [
      "              precision    recall  f1-score   support\n",
      "\n",
      "           0       0.77      0.79      0.78       962\n",
      "           1       0.72      0.69      0.70       744\n",
      "\n",
      "    accuracy                           0.75      1706\n",
      "   macro avg       0.74      0.74      0.74      1706\n",
      "weighted avg       0.75      0.75      0.75      1706\n",
      "\n"
     ]
    }
   ],
   "source": [
    "from sklearn.metrics import classification_report\n",
    "k = classification_report(y_test,y_pred3)\n",
    "print(k)"
   ]
  },
  {
   "cell_type": "markdown",
   "metadata": {},
   "source": [
    "4) Support Vector Machine"
   ]
  },
  {
   "cell_type": "code",
   "execution_count": 56,
   "metadata": {},
   "outputs": [],
   "source": [
    "from sklearn.svm import SVC\n",
    "\n",
    "svc_model = SVC(kernel=\"rbf\")\n",
    "svc_model.fit(x_train, y_train)\n",
    "y_pred4 = svc_model.predict(x_test)"
   ]
  },
  {
   "cell_type": "code",
   "execution_count": 57,
   "metadata": {},
   "outputs": [
    {
     "data": {
      "text/plain": [
       "0.6518171160609613"
      ]
     },
     "execution_count": 57,
     "metadata": {},
     "output_type": "execute_result"
    }
   ],
   "source": [
    "from sklearn.metrics import accuracy_score\n",
    "accuracy = accuracy_score(y_test,y_pred4)\n",
    "accuracy"
   ]
  },
  {
   "cell_type": "code",
   "execution_count": 58,
   "metadata": {},
   "outputs": [
    {
     "name": "stdout",
     "output_type": "stream",
     "text": [
      "              precision    recall  f1-score   support\n",
      "\n",
      "           0       0.72      0.63      0.67       962\n",
      "           1       0.59      0.68      0.63       744\n",
      "\n",
      "    accuracy                           0.65      1706\n",
      "   macro avg       0.65      0.65      0.65      1706\n",
      "weighted avg       0.66      0.65      0.65      1706\n",
      "\n"
     ]
    }
   ],
   "source": [
    "from sklearn.metrics import classification_report\n",
    "k = classification_report(y_test,y_pred4)\n",
    "print(k)"
   ]
  },
  {
   "cell_type": "markdown",
   "metadata": {},
   "source": [
    "On comparing all these models it is found that the Random Forest model predicts most precisely with a recall score of (0.82,0.8)"
   ]
  }
 ],
 "metadata": {
  "kernelspec": {
   "display_name": "Python 3",
   "language": "python",
   "name": "python3"
  },
  "language_info": {
   "codemirror_mode": {
    "name": "ipython",
    "version": 3
   },
   "file_extension": ".py",
   "mimetype": "text/x-python",
   "name": "python",
   "nbconvert_exporter": "python",
   "pygments_lexer": "ipython3",
   "version": "3.8.5"
  }
 },
 "nbformat": 4,
 "nbformat_minor": 4
}
